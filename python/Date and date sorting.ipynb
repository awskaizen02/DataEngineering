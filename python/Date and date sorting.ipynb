{
 "cells": [
  {
   "cell_type": "markdown",
   "metadata": {
    "application/vnd.databricks.v1+cell": {
     "cellMetadata": {},
     "inputWidgets": {},
     "nuid": "18202280-0a91-4c81-b922-efb95b01a26c",
     "showTitle": false,
     "tableResultSettingsMap": {},
     "title": ""
    }
   },
   "source": [
    "Date \n"
   ]
  },
  {
   "cell_type": "code",
   "execution_count": 0,
   "metadata": {
    "application/vnd.databricks.v1+cell": {
     "cellMetadata": {
      "byteLimit": 2048000,
      "rowLimit": 10000
     },
     "inputWidgets": {},
     "nuid": "0b7eae75-b6d0-4a37-85cd-e3f2ffbfc6a0",
     "showTitle": false,
     "tableResultSettingsMap": {},
     "title": ""
    }
   },
   "outputs": [
    {
     "output_type": "stream",
     "name": "stdout",
     "output_type": "stream",
     "text": [
      "+----------+------+\n|      Date| Sales|\n+----------+------+\n|2024-01-01| 900.0|\n|2024-02-02|1100.0|\n|2024-03-03| 950.0|\n|2024-04-04|1200.0|\n|2024-06-05|1050.0|\n|2024-06-06|1000.0|\n|2024-08-07|1300.0|\n|2024-09-08|1150.0|\n|2024-10-09|1000.0|\n|2024-05-10|1400.0|\n|2024-12-11|1200.0|\n|2024-11-12|1100.0|\n|2024-06-13|1350.0|\n|2024-06-14|1250.0|\n|2024-07-15|1100.0|\n|2024-12-16|1400.0|\n|2024-03-17|1300.0|\n|2024-03-18|1200.0|\n|2024-08-19|1450.0|\n|2024-09-20|1600.0|\n+----------+------+\nonly showing top 20 rows\n\n"
     ]
    }
   ],
   "source": [
    "data = [\n",
    "    (\"2024-01-01\", 900.00),\n",
    "    (\"2024-02-02\", 1100.00),\n",
    "    (\"2024-03-03\", 950.00),\n",
    "    (\"2024-04-04\", 1200.00),\n",
    "    (\"2024-06-05\", 1050.00),\n",
    "    (\"2024-06-06\", 1000.00),\n",
    "    (\"2024-08-07\", 1300.00),\n",
    "    (\"2024-09-08\", 1150.00),\n",
    "    (\"2024-10-09\", 1000.00),\n",
    "    (\"2024-05-10\", 1400.00),\n",
    "    (\"2024-12-11\", 1200.00),\n",
    "    (\"2024-11-12\", 1100.00),\n",
    "    (\"2024-06-13\", 1350.00),\n",
    "    (\"2024-06-14\", 1250.00),\n",
    "    (\"2024-07-15\", 1100.00),\n",
    "    (\"2024-12-16\", 1400.00),\n",
    "    (\"2024-03-17\", 1300.00),\n",
    "    (\"2024-03-18\", 1200.00),\n",
    "    (\"2024-08-19\", 1450.00),\n",
    "    (\"2024-09-20\", 1600.00),\n",
    "    (\"2025-02-01\", 1300.00),\n",
    "    (\"2025-02-02\", 1500.00),\n",
    "    (\"2025-02-03\", 1200.00),\n",
    "    (\"2025-02-04\", 1700.00),\n",
    "    (\"2025-02-05\", 1600.00),\n",
    "    (\"2025-02-06\", 1800.00),\n",
    "    (\"2025-02-07\", 2000.00),\n",
    "    (\"2025-02-08\", 1900.00),\n",
    "    (\"2025-02-09\", 2100.00),\n",
    "    (\"2025-02-10\", 2200.00),\n",
    "    (\"2025-06-01\", 1000.00),\n",
    "    (\"2025-06-02\", 1200.00),\n",
    "    (\"2025-06-03\", 800.00),\n",
    "    (\"2025-06-04\", 1500.00),\n",
    "    (\"2025-06-05\", 1300.00),\n",
    "    (\"2025-06-06\", 1100.00),\n",
    "    (\"2025-06-07\", 1400.00),\n",
    "    (\"2025-06-08\", 1600.00),\n",
    "    (\"2025-06-09\", 1800.00),\n",
    "    (\"2025-06-10\", 2000.00)\n",
    "]\n",
    "columns = ['Date','Sales']\n",
    "df = spark.createDataFrame(data = data, schema = columns)           \n",
    "df.show()"
   ]
  },
  {
   "cell_type": "code",
   "execution_count": 0,
   "metadata": {
    "application/vnd.databricks.v1+cell": {
     "cellMetadata": {
      "byteLimit": 2048000,
      "rowLimit": 10000
     },
     "inputWidgets": {},
     "nuid": "34513bba-0066-47f4-8dc5-98cbc2962921",
     "showTitle": false,
     "tableResultSettingsMap": {},
     "title": ""
    }
   },
   "outputs": [
    {
     "output_type": "stream",
     "name": "stdout",
     "output_type": "stream",
     "text": [
      "+----+---------+\n|year|Sum_sales|\n+----+---------+\n|2024|  24000.0|\n|2025|  31000.0|\n+----+---------+\n\n"
     ]
    }
   ],
   "source": [
    "# group the sum of sales b year\n",
    "from pyspark.sql.functions import *\n",
    "df1 = df.withColumn(\"Year\",year(\"Date\"))\n",
    "df2 = df1.groupBy(\"year\").sum(\"Sales\")\n",
    "df2 = df2.withColumnRenamed(\"sum(Sales)\",\"Sum_sales\")\n",
    "df2.show()"
   ]
  },
  {
   "cell_type": "code",
   "execution_count": 0,
   "metadata": {
    "application/vnd.databricks.v1+cell": {
     "cellMetadata": {
      "byteLimit": 2048000,
      "rowLimit": 10000
     },
     "inputWidgets": {},
     "nuid": "bcc66efa-0c50-4d41-a049-3c7943178a2b",
     "showTitle": false,
     "tableResultSettingsMap": {},
     "title": ""
    }
   },
   "outputs": [
    {
     "output_type": "stream",
     "name": "stdout",
     "output_type": "stream",
     "text": [
      "+----+-----+---------+\n|Year|MOnth|Sum_Sales|\n+----+-----+---------+\n|2024|    3|   3450.0|\n|2024|    2|   1100.0|\n|2024|    1|    900.0|\n|2024|    6|   4650.0|\n|2024|    4|   1200.0|\n|2024|    5|   1400.0|\n|2024|    9|   2750.0|\n|2024|   10|   1000.0|\n|2024|    8|   2750.0|\n|2024|    7|   1100.0|\n|2024|   12|   2600.0|\n|2024|   11|   1100.0|\n|2025|    2|  17300.0|\n|2025|    6|  13700.0|\n+----+-----+---------+\n\n"
     ]
    }
   ],
   "source": [
    "# get the sum of sales by month and year of date\n",
    "\n",
    "df1 = df.withColumn(\"Year\",year(\"Date\"))\\\n",
    "        .withColumn(\"MOnth\",month(\"Date\"))\n",
    "df2 = df1.groupBy(\"Year\",\"MOnth\").sum(\"Sales\")        \n",
    "df2 = df2.withColumnRenamed(\"sum(Sales)\",\"Sum_Sales\")\n",
    "df2.show()"
   ]
  },
  {
   "cell_type": "code",
   "execution_count": 0,
   "metadata": {
    "application/vnd.databricks.v1+cell": {
     "cellMetadata": {
      "byteLimit": 2048000,
      "rowLimit": 10000
     },
     "inputWidgets": {},
     "nuid": "bf096002-bf38-41fb-8310-e5843a2ad1f9",
     "showTitle": false,
     "tableResultSettingsMap": {},
     "title": ""
    }
   },
   "outputs": [
    {
     "output_type": "stream",
     "name": "stdout",
     "output_type": "stream",
     "text": [
      "+----------+------+-------------------+----------+\n|      Date| Sales|         Year_start|     Today|\n+----------+------+-------------------+----------+\n|2025-02-01|1300.0|2025-01-01 00:00:00|2025-07-01|\n|2025-02-02|1500.0|2025-01-01 00:00:00|2025-07-01|\n|2025-02-03|1200.0|2025-01-01 00:00:00|2025-07-01|\n|2025-02-04|1700.0|2025-01-01 00:00:00|2025-07-01|\n|2025-02-05|1600.0|2025-01-01 00:00:00|2025-07-01|\n|2025-02-06|1800.0|2025-01-01 00:00:00|2025-07-01|\n|2025-02-07|2000.0|2025-01-01 00:00:00|2025-07-01|\n|2025-02-08|1900.0|2025-01-01 00:00:00|2025-07-01|\n|2025-02-09|2100.0|2025-01-01 00:00:00|2025-07-01|\n|2025-02-10|2200.0|2025-01-01 00:00:00|2025-07-01|\n|2025-06-01|1000.0|2025-01-01 00:00:00|2025-07-01|\n|2025-06-02|1200.0|2025-01-01 00:00:00|2025-07-01|\n|2025-06-03| 800.0|2025-01-01 00:00:00|2025-07-01|\n|2025-06-04|1500.0|2025-01-01 00:00:00|2025-07-01|\n|2025-06-05|1300.0|2025-01-01 00:00:00|2025-07-01|\n|2025-06-06|1100.0|2025-01-01 00:00:00|2025-07-01|\n|2025-06-07|1400.0|2025-01-01 00:00:00|2025-07-01|\n|2025-06-08|1600.0|2025-01-01 00:00:00|2025-07-01|\n|2025-06-09|1800.0|2025-01-01 00:00:00|2025-07-01|\n|2025-06-10|2000.0|2025-01-01 00:00:00|2025-07-01|\n+----------+------+-------------------+----------+\n\n"
     ]
    }
   ],
   "source": [
    "#get the YTD sales\n",
    "# Year To Date = Start of the cureent year to current date\n",
    "df2 = df.withColumn(\"Year_start\",date_trunc('yyyy',current_date()))\\\n",
    "    .withColumn(\"Today\",current_date())\n",
    "df2 = df2.filter(\"Date >= Year_start and Date<= Today\")    \n",
    "df2.show()"
   ]
  },
  {
   "cell_type": "code",
   "execution_count": 0,
   "metadata": {
    "application/vnd.databricks.v1+cell": {
     "cellMetadata": {
      "byteLimit": 2048000,
      "rowLimit": 10000
     },
     "inputWidgets": {},
     "nuid": "da4eea5f-cebe-45cc-9213-ff3da67de056",
     "showTitle": false,
     "tableResultSettingsMap": {},
     "title": ""
    }
   },
   "outputs": [
    {
     "output_type": "stream",
     "name": "stdout",
     "output_type": "stream",
     "text": [
      "+----------+------+--------------------+-------------------+\n|      Date| Sales|         CurrentTime|            Add2Hrs|\n+----------+------+--------------------+-------------------+\n|2024-01-01| 900.0|2025-07-01 12:47:...|2025-07-01 14:47:47|\n|2024-02-02|1100.0|2025-07-01 12:47:...|2025-07-01 14:47:47|\n|2024-03-03| 950.0|2025-07-01 12:47:...|2025-07-01 14:47:47|\n|2024-04-04|1200.0|2025-07-01 12:47:...|2025-07-01 14:47:47|\n|2024-06-05|1050.0|2025-07-01 12:47:...|2025-07-01 14:47:47|\n|2024-06-06|1000.0|2025-07-01 12:47:...|2025-07-01 14:47:47|\n|2024-08-07|1300.0|2025-07-01 12:47:...|2025-07-01 14:47:47|\n|2024-09-08|1150.0|2025-07-01 12:47:...|2025-07-01 14:47:47|\n|2024-10-09|1000.0|2025-07-01 12:47:...|2025-07-01 14:47:47|\n|2024-05-10|1400.0|2025-07-01 12:47:...|2025-07-01 14:47:47|\n|2024-12-11|1200.0|2025-07-01 12:47:...|2025-07-01 14:47:47|\n|2024-11-12|1100.0|2025-07-01 12:47:...|2025-07-01 14:47:47|\n|2024-06-13|1350.0|2025-07-01 12:47:...|2025-07-01 14:47:47|\n|2024-06-14|1250.0|2025-07-01 12:47:...|2025-07-01 14:47:47|\n|2024-07-15|1100.0|2025-07-01 12:47:...|2025-07-01 14:47:47|\n|2024-12-16|1400.0|2025-07-01 12:47:...|2025-07-01 14:47:47|\n|2024-03-17|1300.0|2025-07-01 12:47:...|2025-07-01 14:47:47|\n|2024-03-18|1200.0|2025-07-01 12:47:...|2025-07-01 14:47:47|\n|2024-08-19|1450.0|2025-07-01 12:47:...|2025-07-01 14:47:47|\n|2024-09-20|1600.0|2025-07-01 12:47:...|2025-07-01 14:47:47|\n+----------+------+--------------------+-------------------+\nonly showing top 20 rows\n\n"
     ]
    }
   ],
   "source": [
    "# add 2 hours to the cureent time\n",
    "df2 = df.withColumn(\"CurrentTime\",current_timestamp())\n",
    "df3 = df2.withColumn(\"Add2Hrs\",from_unixtime(unix_timestamp(col(\"CurrentTime\"))+2 * 3600))\n",
    "df3.show()                      "
   ]
  },
  {
   "cell_type": "code",
   "execution_count": 0,
   "metadata": {
    "application/vnd.databricks.v1+cell": {
     "cellMetadata": {
      "byteLimit": 2048000,
      "rowLimit": 10000
     },
     "inputWidgets": {},
     "nuid": "471ec700-254c-467e-a276-cc7a7c4ad54c",
     "showTitle": false,
     "tableResultSettingsMap": {},
     "title": ""
    }
   },
   "outputs": [
    {
     "output_type": "stream",
     "name": "stdout",
     "output_type": "stream",
     "text": [
      "+----------+------+--------------------+--------------------+\n|      Date| Sales|         CurrentTime|             ADD2HRS|\n+----------+------+--------------------+--------------------+\n|2024-01-01| 900.0|2025-07-01 12:51:...|2025-07-01 15:21:...|\n|2024-02-02|1100.0|2025-07-01 12:51:...|2025-07-01 15:21:...|\n|2024-03-03| 950.0|2025-07-01 12:51:...|2025-07-01 15:21:...|\n|2024-04-04|1200.0|2025-07-01 12:51:...|2025-07-01 15:21:...|\n|2024-06-05|1050.0|2025-07-01 12:51:...|2025-07-01 15:21:...|\n|2024-06-06|1000.0|2025-07-01 12:51:...|2025-07-01 15:21:...|\n|2024-08-07|1300.0|2025-07-01 12:51:...|2025-07-01 15:21:...|\n|2024-09-08|1150.0|2025-07-01 12:51:...|2025-07-01 15:21:...|\n|2024-10-09|1000.0|2025-07-01 12:51:...|2025-07-01 15:21:...|\n|2024-05-10|1400.0|2025-07-01 12:51:...|2025-07-01 15:21:...|\n|2024-12-11|1200.0|2025-07-01 12:51:...|2025-07-01 15:21:...|\n|2024-11-12|1100.0|2025-07-01 12:51:...|2025-07-01 15:21:...|\n|2024-06-13|1350.0|2025-07-01 12:51:...|2025-07-01 15:21:...|\n|2024-06-14|1250.0|2025-07-01 12:51:...|2025-07-01 15:21:...|\n|2024-07-15|1100.0|2025-07-01 12:51:...|2025-07-01 15:21:...|\n|2024-12-16|1400.0|2025-07-01 12:51:...|2025-07-01 15:21:...|\n|2024-03-17|1300.0|2025-07-01 12:51:...|2025-07-01 15:21:...|\n|2024-03-18|1200.0|2025-07-01 12:51:...|2025-07-01 15:21:...|\n|2024-08-19|1450.0|2025-07-01 12:51:...|2025-07-01 15:21:...|\n|2024-09-20|1600.0|2025-07-01 12:51:...|2025-07-01 15:21:...|\n+----------+------+--------------------+--------------------+\nonly showing top 20 rows\n\n"
     ]
    }
   ],
   "source": [
    "# add 2 HRS to to the current time\n",
    "df2 = df.withColumn(\"CurrentTime\",current_timestamp())\n",
    "df3 = df2.withColumn(\"ADD2HRS\",expr(\" CurrentTime + INTERVAL 2 Hours + INTERVAL 30 Minutes + INTERVAL 10 seconds\"))\n",
    "df3.show()"
   ]
  },
  {
   "cell_type": "code",
   "execution_count": 0,
   "metadata": {
    "application/vnd.databricks.v1+cell": {
     "cellMetadata": {
      "byteLimit": 2048000,
      "rowLimit": 10000
     },
     "inputWidgets": {},
     "nuid": "a5526e9c-7c9d-45a7-91ff-fec9bedc04bf",
     "showTitle": false,
     "tableResultSettingsMap": {},
     "title": ""
    }
   },
   "outputs": [
    {
     "output_type": "stream",
     "name": "stdout",
     "output_type": "stream",
     "text": [
      "140468464908464\n140468464908464\n140468464908496\n140468464908464\n"
     ]
    }
   ],
   "source": [
    "x = 123\n",
    "y = 123\n",
    "z = 124\n",
    "print(id(x))\n",
    "print(id(y))\n",
    "print(id(z))\n",
    "print(id(123))"
   ]
  },
  {
   "cell_type": "code",
   "execution_count": 0,
   "metadata": {
    "application/vnd.databricks.v1+cell": {
     "cellMetadata": {
      "byteLimit": 2048000,
      "rowLimit": 10000
     },
     "inputWidgets": {},
     "nuid": "2400347d-76b2-4537-ac56-ccc50ea948d7",
     "showTitle": false,
     "tableResultSettingsMap": {},
     "title": ""
    }
   },
   "outputs": [
    {
     "output_type": "stream",
     "name": "stdout",
     "output_type": "stream",
     "text": [
      "+----+-------+---------+--------------------+\n|Year|  Month|Sum_Sales|Previous_Month_Sales|\n+----+-------+---------+--------------------+\n|2024|   null|    900.0|                null|\n|2024|  200.0|   1100.0|               900.0|\n|2024| 2350.0|   3450.0|              1100.0|\n|2024|-2250.0|   1200.0|              3450.0|\n|2024|  200.0|   1400.0|              1200.0|\n|2024| 3250.0|   4650.0|              1400.0|\n|2024|-3550.0|   1100.0|              4650.0|\n|2024| 1650.0|   2750.0|              1100.0|\n|2024|    0.0|   2750.0|              2750.0|\n|2024|-1750.0|   1000.0|              2750.0|\n|2024|  100.0|   1100.0|              1000.0|\n|2024| 1500.0|   2600.0|              1100.0|\n|2025|14700.0|  17300.0|              2600.0|\n|2025|-3600.0|  13700.0|             17300.0|\n+----+-------+---------+--------------------+\n\n"
     ]
    }
   ],
   "source": [
    "# Get the sum of sales by month and year of date\n",
    "\n",
    "from pyspark.sql.functions import *\n",
    "from pyspark.sql.window import *\n",
    "\n",
    "df1 = df.withColumn(\"Year\",year(\"Date\"))\\\n",
    "    .withColumn(\"Month\",month(\"Date\"))\n",
    "df2 = df1.groupBy(\"Year\",\"Month\").sum(\"Sales\")    \n",
    "df2 = df2.withColumnRenamed(\"sum(Sales)\",\"Sum_Sales\")\n",
    "df2 = df2.orderBy(\"Year\",\"Month\")\n",
    "window_partition = Window.orderBy(\"Year\",\"Month\")\n",
    "df_m = df2.withColumn(\"Previous_Month_Sales\",lag(\"Sum_Sales\",1).over(window_partition))\n",
    "df_m = df_m.withColumn(\"Month\",df_m.Sum_Sales-df_m.Previous_Month_Sales)\n",
    "df_m.show()"
   ]
  },
  {
   "cell_type": "markdown",
   "metadata": {
    "application/vnd.databricks.v1+cell": {
     "cellMetadata": {},
     "inputWidgets": {},
     "nuid": "486c1641-c915-4f6f-9e5a-77349e380479",
     "showTitle": false,
     "tableResultSettingsMap": {},
     "title": ""
    }
   },
   "source": [
    "Data Sorting \n"
   ]
  },
  {
   "cell_type": "code",
   "execution_count": 0,
   "metadata": {
    "application/vnd.databricks.v1+cell": {
     "cellMetadata": {
      "byteLimit": 2048000,
      "rowLimit": 10000
     },
     "inputWidgets": {},
     "nuid": "ebacf55b-7d31-46a9-9f6b-eb2e827dfc51",
     "showTitle": false,
     "tableResultSettingsMap": {},
     "title": ""
    }
   },
   "outputs": [
    {
     "output_type": "stream",
     "name": "stdout",
     "output_type": "stream",
     "text": [
      "+-----+-------+----------+-----+-----------+-----------+-------+\n|CusID|CusName|      Date|Value|   Category|Subcategory|  Sales|\n+-----+-------+----------+-----+-----------+-----------+-------+\n|    3|Chandru|2025-03-04|    L|Electronics|      Phone| 299.99|\n|    2|   Babu|2025-02-02|    F|       Home|  Furniture| 129.99|\n|    1|Aravind|2025-01-02|    B|    Fashion|   Clothing|  59.99|\n|    4|  David|2025-04-01|    M|       Home|  Appliance| 399.99|\n|    5|   Elsa|2025-05-03|    S|Electronics|     Laptop| 999.99|\n|    3|Chandru|2025-03-01|    I|Electronics|     Tablet| 199.99|\n|    2|   Babu|2025-02-01|    E|       Home|  Furniture|  89.99|\n|    1|Aravind|2025-01-01|    A|    Fashion|Accessories|  29.99|\n|    4|  David|2025-04-04|    P|       Home|  Appliance| 499.99|\n|    5|   Elsa|2025-05-01|    Q|Electronics|     Laptop|1099.99|\n|    1|Aravind|2025-01-04|    D|    Fashion|   Clothing|  79.99|\n|    3|Chandru|2025-03-03|    K|Electronics|      Phone| 329.99|\n|    2|   Babu|2025-02-03|    G|       Home|  Furniture| 179.99|\n|    4|  David|2025-04-02|    N|       Home|  Appliance| 299.99|\n|    5|   Elsa|2025-05-02|    R|Electronics|     Laptop|1299.99|\n|    3|Chandru|2025-03-02|    J|Electronics|     Tablet| 249.99|\n|    1|Aravind|2025-01-03|    C|    Fashion|Accessories|  39.99|\n|    4|  David|2025-04-03|    O|       Home|  Appliance| 199.99|\n|    5|   Elsa|2025-05-04|    T|       null|     Laptop| 899.99|\n+-----+-------+----------+-----+-----------+-----------+-------+\n\n"
     ]
    }
   ],
   "source": [
    "messy_data = [\n",
    "    (3, 'Chandru', '2025-03-04', 'L', 'Electronics', 'Phone', 299.99),\n",
    "    (2, 'Babu', '2025-02-02', 'F', 'Home', 'Furniture', 129.99),\n",
    "    (1, 'Aravind', '2025-01-02', 'B', 'Fashion', 'Clothing', 59.99),\n",
    "    (4, 'David', '2025-04-01', 'M', 'Home', 'Appliance', 399.99),\n",
    "    (5, 'Elsa', '2025-05-03', 'S', 'Electronics', 'Laptop', 999.99),\n",
    "    (3, 'Chandru', '2025-03-01', 'I', 'Electronics', 'Tablet', 199.99),\n",
    "    (2, 'Babu', '2025-02-01', 'E', 'Home', 'Furniture', 89.99),\n",
    "    (1, 'Aravind', '2025-01-01', 'A', 'Fashion', 'Accessories', 29.99),\n",
    "    (4, 'David', '2025-04-04', 'P', 'Home', 'Appliance', 499.99),\n",
    "    (5, 'Elsa', '2025-05-01', 'Q', 'Electronics', 'Laptop', 1099.99),\n",
    "    (1, 'Aravind', '2025-01-04', 'D', 'Fashion', 'Clothing', 79.99),\n",
    "    (3, 'Chandru', '2025-03-03', 'K', 'Electronics', 'Phone', 329.99),\n",
    "    (2, 'Babu', '2025-02-03', 'G', 'Home', 'Furniture', 179.99),\n",
    "    (4, 'David', '2025-04-02', 'N', 'Home', 'Appliance', 299.99),\n",
    "    (5, 'Elsa', '2025-05-02', 'R', 'Electronics', 'Laptop', 1299.99),\n",
    "    (3, 'Chandru', '2025-03-02', 'J', 'Electronics', 'Tablet', 249.99),\n",
    "    (1, 'Aravind', '2025-01-03', 'C', 'Fashion', 'Accessories', 39.99),\n",
    "    (4, 'David', '2025-04-03', 'O', 'Home', 'Appliance', 199.99),\n",
    "    (5, 'Elsa', '2025-05-04', 'T', None, 'Laptop', 899.99)\n",
    "]\n",
    "\n",
    "# Create DataFrame\n",
    "\n",
    "df = spark.createDataFrame(messy_data,[\"CusID\",\"CusName\",\"Date\",\"Value\",\"Category\",\"Subcategory\",\"Sales\"])\n",
    "df.show()\n"
   ]
  },
  {
   "cell_type": "code",
   "execution_count": 0,
   "metadata": {
    "application/vnd.databricks.v1+cell": {
     "cellMetadata": {
      "byteLimit": 2048000,
      "rowLimit": 10000
     },
     "inputWidgets": {},
     "nuid": "eed90552-7c9d-4a76-a772-3dea76db5a90",
     "showTitle": false,
     "tableResultSettingsMap": {},
     "title": ""
    }
   },
   "outputs": [
    {
     "output_type": "stream",
     "name": "stdout",
     "output_type": "stream",
     "text": [
      "+-----+-------+----------+-----+-----------+-----------+-------+\n|CusID|CusName|      Date|Value|   Category|Subcategory|  Sales|\n+-----+-------+----------+-----+-----------+-----------+-------+\n|    5|   Elsa|2025-05-04|    T|       null|     Laptop| 899.99|\n|    5|   Elsa|2025-05-02|    R|Electronics|     Laptop|1299.99|\n|    5|   Elsa|2025-05-01|    Q|Electronics|     Laptop|1099.99|\n|    5|   Elsa|2025-05-03|    S|Electronics|     Laptop| 999.99|\n|    3|Chandru|2025-03-03|    K|Electronics|      Phone| 329.99|\n|    3|Chandru|2025-03-04|    L|Electronics|      Phone| 299.99|\n|    3|Chandru|2025-03-02|    J|Electronics|     Tablet| 249.99|\n|    3|Chandru|2025-03-01|    I|Electronics|     Tablet| 199.99|\n|    1|Aravind|2025-01-04|    D|    Fashion|   Clothing|  79.99|\n|    1|Aravind|2025-01-02|    B|    Fashion|   Clothing|  59.99|\n|    1|Aravind|2025-01-03|    C|    Fashion|Accessories|  39.99|\n|    1|Aravind|2025-01-01|    A|    Fashion|Accessories|  29.99|\n|    4|  David|2025-04-04|    P|       Home|  Appliance| 499.99|\n|    4|  David|2025-04-01|    M|       Home|  Appliance| 399.99|\n|    4|  David|2025-04-02|    N|       Home|  Appliance| 299.99|\n|    4|  David|2025-04-03|    O|       Home|  Appliance| 199.99|\n|    2|   Babu|2025-02-03|    G|       Home|  Furniture| 179.99|\n|    2|   Babu|2025-02-02|    F|       Home|  Furniture| 129.99|\n|    2|   Babu|2025-02-01|    E|       Home|  Furniture|  89.99|\n+-----+-------+----------+-----+-----------+-----------+-------+\n\n"
     ]
    }
   ],
   "source": [
    "#get the data sorted by category ascending order and sales descending order\n",
    "#syntax: datafram.orderBy(col(\"COL1\").asc(),col(\"col2\").desc())\n",
    "from pyspark.sql.functions import *\n",
    "df2 = df.orderBy(col(\"Category\").asc(),col(\"Sales\").desc())\n",
    "df2.show()"
   ]
  }
 ],
 "metadata": {
  "application/vnd.databricks.v1+notebook": {
   "computePreferences": null,
   "dashboards": [],
   "environmentMetadata": {
    "base_environment": "",
    "environment_version": "1"
   },
   "inputWidgetPreferences": null,
   "language": "python",
   "notebookMetadata": {
    "pythonIndentUnit": 4
   },
   "notebookName": "Untitled Notebook 2025-07-01 18:02:53",
   "widgets": {}
  }
 },
 "nbformat": 4,
 "nbformat_minor": 0
}