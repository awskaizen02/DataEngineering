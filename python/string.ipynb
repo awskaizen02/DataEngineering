{
 "cells": [
  {
   "cell_type": "code",
   "execution_count": 0,
   "metadata": {
    "application/vnd.databricks.v1+cell": {
     "cellMetadata": {
      "byteLimit": 2048000,
      "rowLimit": 10000
     },
     "inputWidgets": {},
     "nuid": "8a207d01-ea10-4040-92d8-bf6e937cdfc6",
     "showTitle": false,
     "tableResultSettingsMap": {},
     "title": ""
    }
   },
   "outputs": [
    {
     "output_type": "stream",
     "name": "stdout",
     "output_type": "stream",
     "text": [
      "+---------+--------+-------+-----+-----+\n|firstname|lastname|country|state|  sal|\n+---------+--------+-------+-----+-----+\n|     raja|  pushpa|    USA|     |30000|\n|    priya|  pushpa|    USA|     |29900|\n|  Karthik|    Subu|    USA|   CA| 6000|\n|    James|   Smith|    USA|   FL|20000|\n|   Martin|   Jones|    USA|   CA| 3000|\n|      Sam|Anderson|     UK|  LND| 8000|\n|    Maria| Patrick|     UK|  MCR| 7000|\n|    Robet|   Bevon|     UK|  LND| 3500|\n|    Maria|Anderson|     UK|  MCR| 3000|\n+---------+--------+-------+-----+-----+\n\n"
     ]
    }
   ],
   "source": [
    "staticlist = [(\"raja\", \"pushpa\", \"USA\",\"\",30000),\n",
    "            (\"priya\", \"pushpa\", \"USA\",\"\",29900),\n",
    "            (\"Karthik\", \"Subu\", \"USA\",\"CA\",6000),\n",
    "            (\"James\", \"Smith\", \"USA\",\"FL\",20000),\n",
    "            (\"Martin\", \"Jones\", \"USA\",\"CA\",3000),\n",
    "            (\"Sam\", \"Anderson\", \"UK\",\"LND\",8000),\n",
    "            (\"Maria\", \"Patrick\", \"UK\",\"MCR\",7000),\n",
    "            (\"Robet\", \"Bevon\", \"UK\",\"LND\",3500),\n",
    "            (\"Maria\", \"Anderson\", \"UK\",\"MCR\",3000)\n",
    "            ]\n",
    "columns = [\"firstname\",\"lastname\",\"country\",\"state\",\"sal\"]            \n",
    "df = spark.createDataFrame( data = staticlist, schema = columns)\n",
    "df.show()"
   ]
  },
  {
   "cell_type": "code",
   "execution_count": 0,
   "metadata": {
    "application/vnd.databricks.v1+cell": {
     "cellMetadata": {
      "byteLimit": 2048000,
      "rowLimit": 10000
     },
     "inputWidgets": {},
     "nuid": "115aee43-c843-440f-8f0d-94df3a7d9998",
     "showTitle": false,
     "tableResultSettingsMap": {},
     "title": ""
    }
   },
   "outputs": [
    {
     "output_type": "stream",
     "name": "stdout",
     "output_type": "stream",
     "text": [
      "+---------+--------+-------+-----+-----+--------+\n|firstname|lastname|country|state|  sal|      TV|\n+---------+--------+-------+-----+-----+--------+\n|     raja|  pushpa|    USA|     |30000|  pushpa|\n|    priya|  pushpa|    USA|     |29900|  pushpa|\n|  Karthik|    Subu|    USA|   CA| 6000|    Subu|\n|    James|   Smith|    USA|   FL|20000|   Smith|\n|   Martin|   Jones|    USA|   CA| 3000|   Jones|\n|      Sam|Anderson|     UK|  LND| 8000|Anderson|\n|    Maria| Patrick|     UK|  MCR| 7000| Patrick|\n|    Robet|   Bevon|     UK|  LND| 3500|   Bevon|\n|    Maria|Anderson|     UK|  MCR| 3000|Anderson|\n+---------+--------+-------+-----+-----+--------+\n\n"
     ]
    }
   ],
   "source": [
    "from pyspark.sql.functions import *\n",
    "\n",
    "df1 = df.withColumn(\"TV\",trim('lastname'))\n",
    "df1.show()"
   ]
  },
  {
   "cell_type": "code",
   "execution_count": 0,
   "metadata": {
    "application/vnd.databricks.v1+cell": {
     "cellMetadata": {
      "byteLimit": 2048000,
      "rowLimit": 10000
     },
     "inputWidgets": {},
     "nuid": "8985ed27-431a-4709-b4ed-f7e09c7d4df3",
     "showTitle": false,
     "tableResultSettingsMap": {},
     "title": ""
    }
   },
   "outputs": [
    {
     "output_type": "stream",
     "name": "stdout",
     "output_type": "stream",
     "text": [
      "+---------+--------+-------+-----+-----+--------------+-------------+------------+---------------+-------------+\n|firstname|lastname|country|state|  sal|     Full_Name|First4letters|Last4letters|3rdpos_4letters|3rddigitrests|\n+---------+--------+-------+-----+-----+--------------+-------------+------------+---------------+-------------+\n|     raja|  pushpa|    USA|     |30000|   Raja Pushpa|         Raja|        shpa|           ja P|    ja Pushpa|\n|    priya|  pushpa|    USA|     |29900|  Priya Pushpa|         Priy|        shpa|           iya |    iya Pushp|\n|  Karthik|    Subu|    USA|   CA| 6000|  Karthik Subu|         Kart|        Subu|           rthi|    rthik Sub|\n|    James|   Smith|    USA|   FL|20000|   James Smith|         Jame|        mith|           mes |    mes Smith|\n|   Martin|   Jones|    USA|   CA| 3000|  Martin Jones|         Mart|        ones|           rtin|    rtin Jone|\n|      Sam|Anderson|     UK|  LND| 8000|  Sam Anderson|         Sam |        rson|           m An|    m Anderso|\n|    Maria| Patrick|     UK|  MCR| 7000| Maria Patrick|         Mari|        rick|           ria |    ria Patri|\n|    Robet|   Bevon|     UK|  LND| 3500|   Robet Bevon|         Robe|        evon|           bet |    bet Bevon|\n|    Maria|Anderson|     UK|  MCR| 3000|Maria Anderson|         Mari|        rson|           ria |    ria Ander|\n+---------+--------+-------+-----+-----+--------------+-------------+------------+---------------+-------------+\n\n"
     ]
    }
   ],
   "source": [
    "#get the left right and middle values of any given string\n",
    "#syntax: substring(\"<colname>\",<string position>,<length of string>)\n",
    "\n",
    "df2 = df.withColumn(\"Full_Name\",trim(concat(initcap(\"firstname\"),lit(\" \"),initcap(\"lastname\"))))\n",
    "df3 = df2.withColumn(\"First4letters\",substring(\"Full_name\",0,4))\\\n",
    "         .withColumn(\"Last4letters\",substring(\"Full_name\",-4,4))\\\n",
    "         .withColumn(\"3rdpos_4letters\",substring(\"Full_name\",3,4))\\\n",
    "         .withColumn(\"3rddigitrests\",substring(\"Full_name\",3,len(\"Full_name\")))\n",
    "df3.show()  "
   ]
  },
  {
   "cell_type": "code",
   "execution_count": 0,
   "metadata": {
    "application/vnd.databricks.v1+cell": {
     "cellMetadata": {
      "byteLimit": 2048000,
      "rowLimit": 10000
     },
     "inputWidgets": {},
     "nuid": "cfd5b581-5e2e-4ab0-903d-c3e109057e70",
     "showTitle": false,
     "tableResultSettingsMap": {},
     "title": ""
    }
   },
   "outputs": [
    {
     "output_type": "stream",
     "name": "stdout",
     "output_type": "stream",
     "text": [
      "+---------+--------+-------+-----+-----+--------------+------+\n|firstname|lastname|country|state|  sal|     Full_Name|length|\n+---------+--------+-------+-----+-----+--------------+------+\n|     raja|  pushpa|    USA|     |30000|   Raja Pushpa|    11|\n|    priya|  pushpa|    USA|     |29900|  Priya Pushpa|    12|\n|  Karthik|    Subu|    USA|   CA| 6000|  Karthik Subu|    12|\n|    James|   Smith|    USA|   FL|20000|   James Smith|    11|\n|   Martin|   Jones|    USA|   CA| 3000|  Martin Jones|    12|\n|      Sam|Anderson|     UK|  LND| 8000|  Sam Anderson|    12|\n|    Maria| Patrick|     UK|  MCR| 7000| Maria Patrick|    13|\n|    Robet|   Bevon|     UK|  LND| 3500|   Robet Bevon|    11|\n|    Maria|Anderson|     UK|  MCR| 3000|Maria Anderson|    14|\n+---------+--------+-------+-----+-----+--------------+------+\n\nroot\n |-- firstname: string (nullable = true)\n |-- lastname: string (nullable = true)\n |-- country: string (nullable = true)\n |-- state: string (nullable = true)\n |-- sal: long (nullable = true)\n |-- Full_Name: string (nullable = true)\n |-- length: integer (nullable = true)\n\n"
     ]
    }
   ],
   "source": [
    "#get the legth of string\n",
    "#len(\"colname\")\n",
    "df4 = df2.select(df2['*'],length(\"Full_Name\").alias(\"length\"))\n",
    "df4.show()\n",
    "df4.printSchema()"
   ]
  },
  {
   "cell_type": "code",
   "execution_count": 0,
   "metadata": {
    "application/vnd.databricks.v1+cell": {
     "cellMetadata": {
      "byteLimit": 2048000,
      "rowLimit": 10000
     },
     "inputWidgets": {},
     "nuid": "88fbc66c-d239-4d38-a0bb-a36982938283",
     "showTitle": false,
     "tableResultSettingsMap": {},
     "title": ""
    }
   },
   "outputs": [
    {
     "output_type": "stream",
     "name": "stdout",
     "output_type": "stream",
     "text": [
      "+---------+--------+-------+-----+-----+------+\n|firstname|lastname|country|state|  sal|isNull|\n+---------+--------+-------+-----+-----+------+\n|     raja|  pushpa|    USA|     |30000| false|\n|    priya|  pushpa|    USA|     |29900| false|\n|  Karthik|    Subu|    USA|   CA| 6000| false|\n|    James|   Smith|    USA|   FL|20000| false|\n|   Martin|   Jones|    USA|   CA| 3000| false|\n|      Sam|Anderson|     UK|  LND| 8000| false|\n|    Maria| Patrick|     UK|  MCR| 7000| false|\n|    Robet|   Bevon|     UK|  LND| 3500| false|\n|    Maria|Anderson|     UK|  MCR| 3000| false|\n+---------+--------+-------+-----+-----+------+\n\n"
     ]
    }
   ],
   "source": [
    "#check if the colum is null\n",
    "df5 = df.withColumn(\"isNull\",isnull(\"state\"))\n",
    "df5.show()"
   ]
  },
  {
   "cell_type": "code",
   "execution_count": 0,
   "metadata": {
    "application/vnd.databricks.v1+cell": {
     "cellMetadata": {
      "byteLimit": 2048000,
      "rowLimit": 10000
     },
     "inputWidgets": {},
     "nuid": "0774acf6-146e-4fe2-b996-437a0dbf8152",
     "showTitle": false,
     "tableResultSettingsMap": {},
     "title": ""
    }
   },
   "outputs": [
    {
     "output_type": "stream",
     "name": "stdout",
     "output_type": "stream",
     "text": [
      "+----+-----+-----+--------+\n|col1| col2| col3|coalesce|\n+----+-----+-----+--------+\n|null|Kumar|yello|   Kumar|\n| Ram|Kumar| null|     Ram|\n|null| null|  Raj|     Raj|\n+----+-----+-----+--------+\n\n+----+-----+-----+\n|col1| col2| col3|\n+----+-----+-----+\n|null|Kumar|yello|\n| Ram|Kumar| null|\n|null| null|  Raj|\n+----+-----+-----+\n\n"
     ]
    }
   ],
   "source": [
    "list1 = [(None,'Kumar','yello'),('Ram','Kumar',None),(None,None,'Raj')]\n",
    "df6 = spark.createDataFrame(data = list1, schema = [\"col1\",\"col2\",\"col3\"])\n",
    "df7 = df6.withColumn(\"coalesce\",coalesce(\"col1\",\"col2\",\"col3\"))\n",
    "df7.show()\n",
    "df6.show()"
   ]
  },
  {
   "cell_type": "code",
   "execution_count": 0,
   "metadata": {
    "application/vnd.databricks.v1+cell": {
     "cellMetadata": {},
     "inputWidgets": {},
     "nuid": "dfcdb1de-681b-4c48-9bee-f34fc86dcf20",
     "showTitle": false,
     "tableResultSettingsMap": {},
     "title": ""
    }
   },
   "outputs": [],
   "source": [
    "# https://docs.databricks.com/aws/en/sql/language-manual/functions/coalesce"
   ]
  },
  {
   "cell_type": "code",
   "execution_count": 0,
   "metadata": {
    "application/vnd.databricks.v1+cell": {
     "cellMetadata": {
      "byteLimit": 2048000,
      "rowLimit": 10000
     },
     "inputWidgets": {},
     "nuid": "6eaad12e-c94e-43db-852a-64fcbbf058ca",
     "showTitle": false,
     "tableResultSettingsMap": {},
     "title": ""
    }
   },
   "outputs": [
    {
     "output_type": "stream",
     "name": "stdout",
     "output_type": "stream",
     "text": [
      "+---------+--------+-------+-----+-----+--------------+-----------------+\n|firstname|lastname|country|state|  sal|     Full_Name|            split|\n+---------+--------+-------+-----+-----+--------------+-----------------+\n|     raja|  pushpa|    USA|     |30000|   Raja Pushpa|   [Raja, Pushpa]|\n|    priya|  pushpa|    USA|     |29900|  Priya Pushpa|  [Priya, Pushpa]|\n|  Karthik|    Subu|    USA|   CA| 6000|  Karthik Subu|  [Karthik, Subu]|\n|    James|   Smith|    USA|   FL|20000|   James Smith|   [James, Smith]|\n|   Martin|   Jones|    USA|   CA| 3000|  Martin Jones|  [Martin, Jones]|\n|      Sam|Anderson|     UK|  LND| 8000|  Sam Anderson|  [Sam, Anderson]|\n|    Maria| Patrick|     UK|  MCR| 7000| Maria Patrick| [Maria, Patrick]|\n|    Robet|   Bevon|     UK|  LND| 3500|   Robet Bevon|   [Robet, Bevon]|\n|    Maria|Anderson|     UK|  MCR| 3000|Maria Anderson|[Maria, Anderson]|\n+---------+--------+-------+-----+-----+--------------+-----------------+\n\n+---------+--------+-------+-----+-----+--------------+-----------------+-----------+------------+\n|firstname|lastname|country|state|  sal|     Full_Name|            split|First_Split|second_Split|\n+---------+--------+-------+-----+-----+--------------+-----------------+-----------+------------+\n|     raja|  pushpa|    USA|     |30000|   Raja Pushpa|   [Raja, Pushpa]|       Raja|      Pushpa|\n|    priya|  pushpa|    USA|     |29900|  Priya Pushpa|  [Priya, Pushpa]|      Priya|      Pushpa|\n|  Karthik|    Subu|    USA|   CA| 6000|  Karthik Subu|  [Karthik, Subu]|    Karthik|        Subu|\n|    James|   Smith|    USA|   FL|20000|   James Smith|   [James, Smith]|      James|       Smith|\n|   Martin|   Jones|    USA|   CA| 3000|  Martin Jones|  [Martin, Jones]|     Martin|       Jones|\n|      Sam|Anderson|     UK|  LND| 8000|  Sam Anderson|  [Sam, Anderson]|        Sam|    Anderson|\n|    Maria| Patrick|     UK|  MCR| 7000| Maria Patrick| [Maria, Patrick]|      Maria|     Patrick|\n|    Robet|   Bevon|     UK|  LND| 3500|   Robet Bevon|   [Robet, Bevon]|      Robet|       Bevon|\n|    Maria|Anderson|     UK|  MCR| 3000|Maria Anderson|[Maria, Anderson]|      Maria|    Anderson|\n+---------+--------+-------+-----+-----+--------------+-----------------+-----------+------------+\n\n"
     ]
    }
   ],
   "source": [
    "df8 = df2.withColumn(\"split\",split(\"Full_Name\",\" \",0))\n",
    "df8.show()\n",
    "df9 = df8.withColumn(\"First_Split\",df8.split[0])\\\n",
    "         .withColumn(\"second_Split\",df8.split[1])\n",
    "df9.show()         "
   ]
  },
  {
   "cell_type": "code",
   "execution_count": 0,
   "metadata": {
    "application/vnd.databricks.v1+cell": {
     "cellMetadata": {
      "byteLimit": 2048000,
      "rowLimit": 10000
     },
     "inputWidgets": {},
     "nuid": "4bfa29d3-233e-4982-80ed-cd381f8b44d0",
     "showTitle": false,
     "tableResultSettingsMap": {},
     "title": ""
    }
   },
   "outputs": [
    {
     "output_type": "stream",
     "name": "stdout",
     "output_type": "stream",
     "text": [
      "+---------+--------+-------+-----+-----+--------+\n|firstname|lastname|country|state|  sal|Position|\n+---------+--------+-------+-----+-----+--------+\n|     raja|  pushpa|    USA|     |30000|       2|\n|    priya|  pushpa|    USA|     |29900|       5|\n|  Karthik|    Subu|    USA|   CA| 6000|       2|\n|    James|   Smith|    USA|   FL|20000|       2|\n|   Martin|   Jones|    USA|   CA| 3000|       2|\n|      Sam|Anderson|     UK|  LND| 8000|       2|\n|    Maria| Patrick|     UK|  MCR| 7000|       2|\n|    Robet|   Bevon|     UK|  LND| 3500|       0|\n|    Maria|Anderson|     UK|  MCR| 3000|       2|\n+---------+--------+-------+-----+-----+--------+\n\n"
     ]
    }
   ],
   "source": [
    "# find the position of a string\n",
    "# in string function is case sensitive\n",
    "# inst(<colname>,\"substring\")\n",
    "df10 = df.withColumn(\"Position\",instr(\"firstname\",\"a\"))\n",
    "df10.show()"
   ]
  }
 ],
 "metadata": {
  "application/vnd.databricks.v1+notebook": {
   "computePreferences": null,
   "dashboards": [],
   "environmentMetadata": {
    "base_environment": "",
    "environment_version": "1"
   },
   "inputWidgetPreferences": null,
   "language": "python",
   "notebookMetadata": {
    "pythonIndentUnit": 4
   },
   "notebookName": "Untitled Notebook 2025-06-21 20:52:33",
   "widgets": {}
  }
 },
 "nbformat": 4,
 "nbformat_minor": 0
}